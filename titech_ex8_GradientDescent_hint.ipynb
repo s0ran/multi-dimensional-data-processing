{
  "nbformat": 4,
  "nbformat_minor": 0,
  "metadata": {
    "colab": {
      "provenance": [],
      "collapsed_sections": []
    },
    "kernelspec": {
      "name": "python3",
      "display_name": "Python 3"
    }
  },
  "cells": [
    {
      "cell_type": "markdown",
      "metadata": {
        "id": "Vv8vl_rsN8Em"
      },
      "source": [
        "# 演習８　勾配降下法\n",
        "\n",
        "## 課題\n",
        "行列$A$およびベクトル$b$が既知のとき，以下の最小二乗法\n",
        "\n",
        "$x^* = \\arg\\min_x ||Ax-b||_2^2$\n",
        "\n",
        "を勾配降下法を用いて未知の$x^*$を求めるアルゴリズムを実装せよ．初期値は$x=(3,3)^\\top$とし，勾配降下のステップサイズは$\\tau=0.1$とする．\n",
        "\n",
        "## 追加課題\n",
        "余裕のあるものは，反復ごとの$x_1, x_2$を保存しておいて，反復によるこれらの変数の変化をグラフにせよ．さらに，$\\tau$を変えてこのグラフがどうなるか観察せよ．"
      ]
    },
    {
      "cell_type": "code",
      "metadata": {
        "id": "01rIofX8UCst",
        "colab": {
          "base_uri": "https://localhost:8080/",
          "height": 50
        },
        "outputId": "50e0cf98-c5c6-4b5d-ffdf-faea32afca9c"
      },
      "source": [
        "import numpy as np\n",
        "import matplotlib.pyplot as plt\n",
        "\n",
        "a = np.c_[np.asarray([21.3, 22, 26.9, 32.3, 33.1, 38.2])/100]\n",
        "b = np.c_[np.asarray([116.5, 125.5, 128.1, 132, 141, 145.2])/100]\n",
        "A = np.concatenate([np.ones([6,1]), a], axis=1)\n",
        "\n",
        "ATA = np.matmul(A.T, A)\n",
        "ATb = np.matmul(A.T, b)\n",
        "# ソルバで解いた解x(デバッグ用)\n",
        "tx = np.linalg.solve(ATA, ATb)\n",
        "print(tx)\n",
        "\n",
        "tau = 0.1 #勾配降下のステップサイズ\n",
        "Niter = 5000 # 反復回数\n",
        "\n",
        "# xの初期値\n",
        "x = np.c_[np.asarray([3, 3])]\n"
      ],
      "execution_count": null,
      "outputs": [
        {
          "output_type": "stream",
          "text": [
            "[[0.88743422]\n",
            " [1.47203377]]\n"
          ],
          "name": "stdout"
        }
      ]
    }
  ]
}