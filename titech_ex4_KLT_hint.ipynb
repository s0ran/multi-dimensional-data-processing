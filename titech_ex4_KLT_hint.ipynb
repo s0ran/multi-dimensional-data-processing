{
  "nbformat": 4,
  "nbformat_minor": 0,
  "metadata": {
    "colab": {
      "provenance": [],
      "collapsed_sections": []
    },
    "kernelspec": {
      "name": "python3",
      "display_name": "Python 3"
    }
  },
  "cells": [
    {
      "cell_type": "markdown",
      "metadata": {
        "id": "wyh8gF1eIVa5"
      },
      "source": [
        "# 演習４　KLTの基底の計算\n",
        "\n",
        "##課題\n",
        "\n",
        "配布資料６のモデル化された自己共分散行列$C_{\\rm model}$を生成し（$8\\times8$行列．$\\rho$はパラメータとする），このときのKLTの基底ベクトルを求め可視化せよ．また，$\\rho$を変化させたときに基底がどのように変化するかを観察せよ．余裕があれば，得られたKLTの基底を1次元8点DCTの基底と比較せよ．\n",
        "\n",
        "\n",
        "##ヒント\n",
        "* 固有ベクトルの計算には`np.linalg.eig`を使用するとよい．\n",
        "* 1次元8点DCTの基底は例えば以下のようにすれば可視化できる．`plt.imshow(dct(np.eye(8,8)))`\n",
        "* Toeplitz行列は`scipy.linalg.topelitz`を使うと簡単に作れる（使わなくてもできる）．"
      ]
    },
    {
      "cell_type": "code",
      "metadata": {
        "id": "VFEwTvpnWtop"
      },
      "source": [
        "import numpy as np \n",
        "import matplotlib.pyplot as plt \n",
        "from scipy.linalg import toeplitz\n",
        "from scipy.fft import dct\n",
        "\n",
        "rho=0.99"
      ],
      "execution_count": null,
      "outputs": []
    }
  ]
}