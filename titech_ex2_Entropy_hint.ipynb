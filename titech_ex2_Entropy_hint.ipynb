{
  "nbformat": 4,
  "nbformat_minor": 0,
  "metadata": {
    "colab": {
      "provenance": [],
      "collapsed_sections": []
    },
    "kernelspec": {
      "name": "python3",
      "display_name": "Python 3"
    }
  },
  "cells": [
    {
      "cell_type": "markdown",
      "metadata": {
        "id": "i2Kx0BQi37E1"
      },
      "source": [
        "# Ex. 2 エントロピーの計算\n",
        "\n",
        "課題：読み込んだ画像(pepper.png)を情報源とみなし，画素値(0から255の整数値）をシンボルとみなしたときのエントロピーを計算せよ．このとき，各シンボルの発生確率は生起頻度を正規化することで得よ．答えは約$7.6$ [bit]となるはずである．\n",
        "\n"
      ]
    },
    {
      "cell_type": "code",
      "metadata": {
        "id": "nn8Wn0Ny3Cco",
        "colab": {
          "base_uri": "https://localhost:8080/",
          "height": 119
        },
        "outputId": "3eb010e5-4f75-40b0-ab83-6514bbfb8067"
      },
      "source": [
        "!git clone https://github.com/mdipcit/standard_images/\n"
      ],
      "execution_count": null,
      "outputs": [
        {
          "output_type": "stream",
          "text": [
            "Cloning into 'standard_images'...\n",
            "remote: Enumerating objects: 10, done.\u001b[K\n",
            "remote: Counting objects: 100% (10/10), done.\u001b[K\n",
            "remote: Compressing objects: 100% (8/8), done.\u001b[K\n",
            "remote: Total 10 (delta 0), reused 0 (delta 0), pack-reused 0\u001b[K\n",
            "Unpacking objects: 100% (10/10), done.\n"
          ],
          "name": "stdout"
        }
      ]
    },
    {
      "cell_type": "code",
      "metadata": {
        "id": "EXa5fnyG5qQE",
        "colab": {
          "base_uri": "https://localhost:8080/",
          "height": 34
        },
        "outputId": "48b10ff9-07dd-435a-d0f3-966a1a870835"
      },
      "source": [
        "cd standard_images/"
      ],
      "execution_count": null,
      "outputs": [
        {
          "output_type": "stream",
          "text": [
            "/content/standard_images\n"
          ],
          "name": "stdout"
        }
      ]
    },
    {
      "cell_type": "code",
      "metadata": {
        "id": "GRp-ByTk2hYF"
      },
      "source": [
        "import numpy as np \n",
        "from PIL import Image"
      ],
      "execution_count": null,
      "outputs": []
    },
    {
      "cell_type": "code",
      "metadata": {
        "id": "rk0c79Lm3BSw",
        "colab": {
          "base_uri": "https://localhost:8080/",
          "height": 34
        },
        "outputId": "3f92c2b9-3353-4ba6-b16a-000cb18df004"
      },
      "source": [
        "im = Image.open('pepper.png')\n",
        "im = np.asarray(im)\n",
        "im.shape"
      ],
      "execution_count": null,
      "outputs": [
        {
          "output_type": "execute_result",
          "data": {
            "text/plain": [
              "(256, 256)"
            ]
          },
          "metadata": {
            "tags": []
          },
          "execution_count": 10
        }
      ]
    }
  ]
}